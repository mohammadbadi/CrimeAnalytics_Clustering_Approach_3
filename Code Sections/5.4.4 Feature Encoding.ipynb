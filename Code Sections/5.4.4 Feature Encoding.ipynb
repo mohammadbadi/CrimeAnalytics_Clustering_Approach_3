{
  "nbformat": 4,
  "nbformat_minor": 0,
  "metadata": {
    "colab": {
      "provenance": [],
      "authorship_tag": "ABX9TyM+6TVKeIKbR8Q77le2akeH",
      "include_colab_link": true
    },
    "kernelspec": {
      "name": "python3",
      "display_name": "Python 3"
    },
    "language_info": {
      "name": "python"
    }
  },
  "cells": [
    {
      "cell_type": "markdown",
      "metadata": {
        "id": "view-in-github",
        "colab_type": "text"
      },
      "source": [
        "<a href=\"https://colab.research.google.com/github/mohammadbadi/CrimeAnalytics_Clustering/blob/main/Code%20Sections/5.4.4%20Feature%20Encoding.ipynb\" target=\"_parent\"><img src=\"https://colab.research.google.com/assets/colab-badge.svg\" alt=\"Open In Colab\"/></a>"
      ]
    },
    {
      "cell_type": "markdown",
      "source": [
        "### **5.4.4 Feature Encoding - Approach_3**"
      ],
      "metadata": {
        "id": "YXf08ZHgRxx7"
      }
    },
    {
      "cell_type": "code",
      "execution_count": 1,
      "metadata": {
        "colab": {
          "base_uri": "https://localhost:8080/",
          "height": 417
        },
        "id": "m2Wg3OHVIrGP",
        "outputId": "d0cbfe4e-85d3-481d-edf0-0367bf812a07"
      },
      "outputs": [
        {
          "output_type": "display_data",
          "data": {
            "text/plain": [
              "<IPython.core.display.HTML object>"
            ],
            "text/html": [
              "<p style='color: green; font-size: 16px; font-weight: bold;'>Previously engineered data loaded successfully.</p>"
            ]
          },
          "metadata": {}
        },
        {
          "output_type": "display_data",
          "data": {
            "text/plain": [
              "<IPython.core.display.HTML object>"
            ],
            "text/html": [
              "\n",
              "<table style='border-collapse: collapse; width: 100%; font-size: 18px;'>\n",
              "    <thead style='background-color: #4CAF50; color: white;'>\n",
              "        <tr>\n",
              "            <th colspan=\"3\" style=\"text-align: center; font-size: 24px; background-color: #2f4f4f; color: white;\">5.4.4 Feature Encoding Phase - Approach_3</th>\n",
              "        </tr>\n",
              "        <tr>\n",
              "            <th style='border: 1px solid #dddddd; padding: 8px;'>Original Feature</th>\n",
              "            <th style='border: 1px solid #dddddd; padding: 8px;'>Action Taken</th>\n",
              "            <th style='border: 1px solid #dddddd; padding: 8px;'>Rationale</th>\n",
              "        </tr>\n",
              "    </thead>\n",
              "    <tbody>\n",
              "\n",
              "        <tr style='border: 1px solid #dddddd; background-color: #f2f2f2;'>\n",
              "            <td style='border: 1px solid #dddddd; padding: 8px;'>Location_Engineered</td>\n",
              "            <td style='border: 1px solid #dddddd; padding: 8px;'>One-Hot Encoding applied to create binary features</td>\n",
              "            <td style='border: 1px solid #dddddd; padding: 8px;'>Separates categories for better clustering</td>\n",
              "        </tr>\n",
              "    \n",
              "        <tr style='border: 1px solid #dddddd; background-color: white;'>\n",
              "            <td style='border: 1px solid #dddddd; padding: 8px;'>HOOD_158</td>\n",
              "            <td style='border: 1px solid #dddddd; padding: 8px;'>Frequency encoded to 'Hood_158_Encoded'</td>\n",
              "            <td style='border: 1px solid #dddddd; padding: 8px;'>Represents neighborhood distribution as normalized frequencies</td>\n",
              "        </tr>\n",
              "    \n",
              "        <tr style='border: 1px solid #dddddd; background-color: #f2f2f2;'>\n",
              "            <td style='border: 1px solid #dddddd; padding: 8px;'>DIVISION</td>\n",
              "            <td style='border: 1px solid #dddddd; padding: 8px;'>Frequency encoded to 'Division_Encoded'</td>\n",
              "            <td style='border: 1px solid #dddddd; padding: 8px;'>Represents division distribution as normalized frequencies</td>\n",
              "        </tr>\n",
              "    \n",
              "        <tr style='border: 1px solid #dddddd; background-color: white;'>\n",
              "            <td style='border: 1px solid #dddddd; padding: 8px;'>OCC_MONTH</td>\n",
              "            <td style='border: 1px solid #dddddd; padding: 8px;'>Manual mapping to 'OCC_Month_Encoded'</td>\n",
              "            <td style='border: 1px solid #dddddd; padding: 8px;'>Converts month names to numerical values</td>\n",
              "        </tr>\n",
              "    \n",
              "        <tr style='border: 1px solid #dddddd; background-color: #f2f2f2;'>\n",
              "            <td style='border: 1px solid #dddddd; padding: 8px;'>OCC_DOW</td>\n",
              "            <td style='border: 1px solid #dddddd; padding: 8px;'>Label Encoding applied to create 'OCC_DOW_Encoded'</td>\n",
              "            <td style='border: 1px solid #dddddd; padding: 8px;'>Transforms day names to numeric representations</td>\n",
              "        </tr>\n",
              "    \n",
              "    <tr style='border: 1px solid #dddddd; background-color: white;'>\n",
              "        <td style='border: 1px solid #dddddd; padding: 8px;'>Columns affected in <br> <strong>5.4.4. Feature Encoding - Approach_3</strong></td>\n",
              "        <td style='border: 1px solid #dddddd; padding: 8px;'><strong>:</strong> Initial columns: <br> <strong>19</strong></td>\n",
              "        <td style='border: 1px solid #dddddd; padding: 8px;'>Final Columns: <br> <strong>26</strong></td>\n",
              "    </tr>\n",
              "\n",
              "        <tr style='border: 1px solid #dddddd;'>\n",
              "            <td colspan=\"3\" style='border: 1px solid #dddddd; padding: 8px; background-color: #f8f8f8;'><strong>Feature Encoding completed and saved as <span style='color: green;'>Encoded_Features.csv</span> for further analysis.</strong></td>\n",
              "        </tr>\n",
              "    </tbody>\n",
              "</table>\n"
            ]
          },
          "metadata": {}
        },
        {
          "output_type": "display_data",
          "data": {
            "text/plain": [
              "<IPython.core.display.Javascript object>"
            ],
            "application/javascript": [
              "\n",
              "    async function download(id, filename, size) {\n",
              "      if (!google.colab.kernel.accessAllowed) {\n",
              "        return;\n",
              "      }\n",
              "      const div = document.createElement('div');\n",
              "      const label = document.createElement('label');\n",
              "      label.textContent = `Downloading \"${filename}\": `;\n",
              "      div.appendChild(label);\n",
              "      const progress = document.createElement('progress');\n",
              "      progress.max = size;\n",
              "      div.appendChild(progress);\n",
              "      document.body.appendChild(div);\n",
              "\n",
              "      const buffers = [];\n",
              "      let downloaded = 0;\n",
              "\n",
              "      const channel = await google.colab.kernel.comms.open(id);\n",
              "      // Send a message to notify the kernel that we're ready.\n",
              "      channel.send({})\n",
              "\n",
              "      for await (const message of channel.messages) {\n",
              "        // Send a message to notify the kernel that we're ready.\n",
              "        channel.send({})\n",
              "        if (message.buffers) {\n",
              "          for (const buffer of message.buffers) {\n",
              "            buffers.push(buffer);\n",
              "            downloaded += buffer.byteLength;\n",
              "            progress.value = downloaded;\n",
              "          }\n",
              "        }\n",
              "      }\n",
              "      const blob = new Blob(buffers, {type: 'application/binary'});\n",
              "      const a = document.createElement('a');\n",
              "      a.href = window.URL.createObjectURL(blob);\n",
              "      a.download = filename;\n",
              "      div.appendChild(a);\n",
              "      a.click();\n",
              "      div.remove();\n",
              "    }\n",
              "  "
            ]
          },
          "metadata": {}
        },
        {
          "output_type": "display_data",
          "data": {
            "text/plain": [
              "<IPython.core.display.Javascript object>"
            ],
            "application/javascript": [
              "download(\"download_0df5f7ca-2576-42c1-9378-3f3779d01373\", \"FE_Encoded.csv\", 14263335)"
            ]
          },
          "metadata": {}
        }
      ],
      "source": [
        "import warnings\n",
        "import pandas as pd\n",
        "from sklearn.preprocessing import OneHotEncoder, LabelEncoder\n",
        "from IPython.display import display, HTML\n",
        "from google.colab import files\n",
        "\n",
        "warnings.filterwarnings(\"ignore\", category=DeprecationWarning)\n",
        "warnings.filterwarnings(\"ignore\", category=FutureWarning)\n",
        "\n",
        "# -------------------- Feature Encoding --------------------\n",
        "# Read the file created in 5.4.3\n",
        "url = \"https://raw.githubusercontent.com/mohammadbadi/CrimeAnalytics_Clustering/refs/heads/main/Output_CSV/FEngineered_Data.csv\"\n",
        "try:\n",
        "    df_encoded = pd.read_csv(url)\n",
        "    display(HTML(\"<p style='color: green; font-size: 16px; font-weight: bold;'>Previously engineered data loaded successfully.</p>\"))\n",
        "except Exception as e:\n",
        "    display(HTML(f\"<p style='color: red; font-size: 16px; font-weight: bold;'>Error loading engineered data: {e}</p>\"))\n",
        "    exit()\n",
        "\n",
        "# Count initial columns before encoding\n",
        "initial_column_count = len(df_encoded.columns)\n",
        "\n",
        "# Build a list to store encoding steps details\n",
        "steps_summary = [\n",
        "    {\n",
        "        \"Original Feature\": \"Location_Engineered\",\n",
        "        \"Action Taken\": \"One-Hot Encoding applied to create binary features\",\n",
        "        \"Rationale\": \"Separates categories for better clustering\"\n",
        "    },\n",
        "    {\n",
        "        \"Original Feature\": \"HOOD_158\",\n",
        "        \"Action Taken\": \"Frequency encoded to 'Hood_158_Encoded'\",\n",
        "        \"Rationale\": \"Represents neighborhood distribution as normalized frequencies\"\n",
        "    },\n",
        "    {\n",
        "        \"Original Feature\": \"DIVISION\",\n",
        "        \"Action Taken\": \"Frequency encoded to 'Division_Encoded'\",\n",
        "        \"Rationale\": \"Represents division distribution as normalized frequencies\"\n",
        "    },\n",
        "    {\n",
        "        \"Original Feature\": \"OCC_MONTH\",\n",
        "        \"Action Taken\": \"Manual mapping to 'OCC_Month_Encoded'\",\n",
        "        \"Rationale\": \"Converts month names to numerical values\"\n",
        "    },\n",
        "    {\n",
        "        \"Original Feature\": \"OCC_DOW\",\n",
        "        \"Action Taken\": \"Label Encoding applied to create 'OCC_DOW_Encoded'\",\n",
        "        \"Rationale\": \"Transforms day names to numeric representations\"\n",
        "    }\n",
        "]\n",
        "\n",
        "# 1. Frequency Encoding for HOOD_158\n",
        "hood_counts = df_encoded['HOOD_158'].value_counts(normalize=True)\n",
        "df_encoded['Hood_158_Encoded'] = df_encoded['HOOD_158'].map(hood_counts)\n",
        "\n",
        "# 2. Frequency Encoding for DIVISION\n",
        "division_counts = df_encoded['DIVISION'].value_counts(normalize=True)\n",
        "df_encoded['Division_Encoded'] = df_encoded['DIVISION'].map(division_counts)\n",
        "\n",
        "# 3. One-Hot Encoding for Location_Engineered\n",
        "encoder = OneHotEncoder(sparse_output=False)\n",
        "location_encoded = encoder.fit_transform(df_encoded[['Location_Engineered']])\n",
        "location_encoded_df = pd.DataFrame(location_encoded,\n",
        "                                   columns=encoder.get_feature_names_out(['Location_Engineered']),\n",
        "                                   index=df_encoded.index)\n",
        "df_encoded = pd.concat([df_encoded, location_encoded_df], axis=1)\n",
        "\n",
        "# 4. Manual Mapping for OCC_MONTH\n",
        "month_mapping = {\n",
        "    'January': 1, 'February': 2, 'March': 3, 'April': 4,\n",
        "    'May': 5, 'June': 6, 'July': 7, 'August': 8,\n",
        "    'September': 9, 'October': 10, 'November': 11, 'December': 12\n",
        "}\n",
        "df_encoded['OCC_Month_Encoded'] = df_encoded['OCC_MONTH'].map(month_mapping)\n",
        "\n",
        "# 5. Label Encoding for OCC_DOW\n",
        "dow_encoder = LabelEncoder()\n",
        "df_encoded['OCC_DOW_Encoded'] = dow_encoder.fit_transform(df_encoded['OCC_DOW'])\n",
        "\n",
        "# Count final columns after encoding\n",
        "final_column_count = len(df_encoded.columns)\n",
        "\n",
        "# -------------------- Build HTML Table for Feature Encoding Phase --------------------\n",
        "html_table = \"\"\"\n",
        "<table style='border-collapse: collapse; width: 100%; font-size: 18px;'>\n",
        "    <thead style='background-color: #4CAF50; color: white;'>\n",
        "        <tr>\n",
        "            <th colspan=\"3\" style=\"text-align: center; font-size: 24px; background-color: #2f4f4f; color: white;\">5.4.4 Feature Encoding Phase - Approach_3</th>\n",
        "        </tr>\n",
        "        <tr>\n",
        "            <th style='border: 1px solid #dddddd; padding: 8px;'>Original Feature</th>\n",
        "            <th style='border: 1px solid #dddddd; padding: 8px;'>Action Taken</th>\n",
        "            <th style='border: 1px solid #dddddd; padding: 8px;'>Rationale</th>\n",
        "        </tr>\n",
        "    </thead>\n",
        "    <tbody>\n",
        "\"\"\"\n",
        "\n",
        "# Add rows with alternating shading\n",
        "for i, step in enumerate(steps_summary):\n",
        "    bg_color = \"#f2f2f2\" if i % 2 == 0 else \"white\"\n",
        "    html_table += f\"\"\"\n",
        "        <tr style='border: 1px solid #dddddd; background-color: {bg_color};'>\n",
        "            <td style='border: 1px solid #dddddd; padding: 8px;'>{step[\"Original Feature\"]}</td>\n",
        "            <td style='border: 1px solid #dddddd; padding: 8px;'>{step[\"Action Taken\"]}</td>\n",
        "            <td style='border: 1px solid #dddddd; padding: 8px;'>{step[\"Rationale\"]}</td>\n",
        "        </tr>\n",
        "    \"\"\"\n",
        "\n",
        "# Add row showing columns affected with the requested formatting\n",
        "bg_color = \"#f2f2f2\" if len(steps_summary) % 2 == 0 else \"white\"\n",
        "html_table += f\"\"\"\n",
        "    <tr style='border: 1px solid #dddddd; background-color: {bg_color};'>\n",
        "        <td style='border: 1px solid #dddddd; padding: 8px;'>Columns affected in <br> <strong>5.4.4. Feature Encoding - Approach_3</strong></td>\n",
        "        <td style='border: 1px solid #dddddd; padding: 8px;'><strong>:</strong> Initial columns: <br> <strong>{initial_column_count}</strong></td>\n",
        "        <td style='border: 1px solid #dddddd; padding: 8px;'>Final Columns: <br> <strong>{final_column_count}</strong></td>\n",
        "    </tr>\n",
        "\"\"\"\n",
        "\n",
        "# Add footer note inside the table\n",
        "note_text = (\n",
        "    \"Feature Encoding completed and saved as <span style='color: green;'>Encoded_Features.csv</span> \"\n",
        "    \"for further analysis.\"\n",
        ")\n",
        "html_table += f\"\"\"\n",
        "        <tr style='border: 1px solid #dddddd;'>\n",
        "            <td colspan=\"3\" style='border: 1px solid #dddddd; padding: 8px; background-color: #f8f8f8;'><strong>{note_text}</strong></td>\n",
        "        </tr>\n",
        "    </tbody>\n",
        "</table>\n",
        "\"\"\"\n",
        "display(HTML(html_table))\n",
        "\n",
        "# Save the encoded dataset to CSV\n",
        "df_encoded.to_csv(\"FE_Encoded.csv\", index=False)\n",
        "files.download(\"FE_Encoded.csv\")\n"
      ]
    }
  ]
}