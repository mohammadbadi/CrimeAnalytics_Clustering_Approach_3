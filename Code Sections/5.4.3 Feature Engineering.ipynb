{
  "nbformat": 4,
  "nbformat_minor": 0,
  "metadata": {
    "colab": {
      "provenance": [],
      "authorship_tag": "ABX9TyOTZ+bZriM18HvEvh0/DVFs",
      "include_colab_link": true
    },
    "kernelspec": {
      "name": "python3",
      "display_name": "Python 3"
    },
    "language_info": {
      "name": "python"
    }
  },
  "cells": [
    {
      "cell_type": "markdown",
      "metadata": {
        "id": "view-in-github",
        "colab_type": "text"
      },
      "source": [
        "<a href=\"https://colab.research.google.com/github/mohammadbadi/CrimeAnalytics_Clustering/blob/main/Code%20Sections/5.4.3%20Feature%20Engineering.ipynb\" target=\"_parent\"><img src=\"https://colab.research.google.com/assets/colab-badge.svg\" alt=\"Open In Colab\"/></a>"
      ]
    },
    {
      "cell_type": "markdown",
      "source": [
        "### **5.4.3 Feature Engineering - Approach_3**"
      ],
      "metadata": {
        "id": "tC_QjPUXRmWj"
      }
    },
    {
      "cell_type": "code",
      "execution_count": 1,
      "metadata": {
        "colab": {
          "base_uri": "https://localhost:8080/",
          "height": 338
        },
        "id": "btu8aeNmIqFs",
        "outputId": "0321568f-e24a-44e3-a766-f92d493215c3"
      },
      "outputs": [
        {
          "output_type": "display_data",
          "data": {
            "text/plain": [
              "<IPython.core.display.HTML object>"
            ],
            "text/html": [
              "<p style='color: green; font-size: 16px; font-weight: bold;'>Data loaded successfully.</p>"
            ]
          },
          "metadata": {}
        },
        {
          "output_type": "display_data",
          "data": {
            "text/plain": [
              "<IPython.core.display.HTML object>"
            ],
            "text/html": [
              "\n",
              "<table style='border-collapse: collapse; width: 100%; font-size: 18px;'>\n",
              "    <thead style='background-color: #4CAF50; color: white;'>\n",
              "        <tr>\n",
              "            <th colspan=\"3\" style=\"text-align: center; font-size: 24px; background-color: #2f4f4f; color: white;\">\n",
              "                5.4.3 Feature Engineering Phase - Approach_3\n",
              "            </th>\n",
              "        </tr>\n",
              "        <tr>\n",
              "            <th style='border: 1px solid #dddddd; padding: 8px;'>Original Feature</th>\n",
              "            <th style='border: 1px solid #dddddd; padding: 8px;'>Action Taken</th>\n",
              "            <th style='border: 1px solid #dddddd; padding: 8px;'>Rationale</th>\n",
              "        </tr>\n",
              "    </thead>\n",
              "    <tbody>\n",
              "\n",
              "        <tr style='border: 1px solid #dddddd; background-color: #f2f2f2;'>\n",
              "            <td style='border: 1px solid #dddddd; padding: 8px;'>LOCATION_TYPE</td>\n",
              "            <td style='border: 1px solid #dddddd; padding: 8px;'>Engineered new column Location_Engineered_Residential</td>\n",
              "            <td style='border: 1px solid #dddddd; padding: 8px;'>Captures dwelling types in residential areas.</td>\n",
              "        </tr>\n",
              "    \n",
              "        <tr style='border: 1px solid #dddddd; background-color: white;'>\n",
              "            <td style='border: 1px solid #dddddd; padding: 8px;'>LOCATION_TYPE</td>\n",
              "            <td style='border: 1px solid #dddddd; padding: 8px;'>Engineered new column Location_Engineered_Public</td>\n",
              "            <td style='border: 1px solid #dddddd; padding: 8px;'>Groups public and community space locations.</td>\n",
              "        </tr>\n",
              "    \n",
              "        <tr style='border: 1px solid #dddddd; background-color: #f2f2f2;'>\n",
              "            <td style='border: 1px solid #dddddd; padding: 8px;'>LOCATION_TYPE</td>\n",
              "            <td style='border: 1px solid #dddddd; padding: 8px;'>Engineered new column Location_Engineered_Other</td>\n",
              "            <td style='border: 1px solid #dddddd; padding: 8px;'>Identifies location types that do not fit the primary groups.</td>\n",
              "        </tr>\n",
              "    \n",
              "        <tr style='border: 1px solid #dddddd; background-color: white;'>\n",
              "            <td style='border: 1px solid #dddddd; padding: 8px;'>Columns affected in <br><strong>5.4.3 Feature Engineering - Approach_3</strong></td>\n",
              "            <td style='border: 1px solid #dddddd; padding: 8px;'>Initial Columns: <strong><br>18</strong></td>\n",
              "            <td style='border: 1px solid #dddddd; padding: 8px;'>Final Columns: <strong><br>21</strong></td>\n",
              "        </tr>\n",
              "    \n",
              "        <tr style='border: 1px solid #dddddd;'>\n",
              "            <td colspan=\"3\" style='border: 1px solid #dddddd; padding: 8px; background-color: #f8f8f8;'>\n",
              "                <strong>Feature Engineering completed and saved as <span style='color: green;'>FEngineered_New.csv</span> for further analysis.</strong>\n",
              "            </td>\n",
              "        </tr>\n",
              "    </tbody>\n",
              "</table>\n"
            ]
          },
          "metadata": {}
        }
      ],
      "source": [
        "import warnings                                                                   # Import necessary libraries\n",
        "import pandas as pd\n",
        "import numpy as np\n",
        "import matplotlib.pyplot as plt\n",
        "import seaborn as sns\n",
        "from sklearn.preprocessing import StandardScaler\n",
        "from sklearn.cluster import KMeans\n",
        "from sklearn.metrics import silhouette_score, davies_bouldin_score, calinski_harabasz_score\n",
        "from sklearn.decomposition import PCA\n",
        "from google.colab import files\n",
        "from IPython.display import display, HTML\n",
        "\n",
        "                                                                                  # URL of the Dataset\n",
        "url = \"https://raw.githubusercontent.com/mohammadbadi/CrimeAnalytics_Clustering/refs/heads/main/Output_CSV/Final_Data.csv\"\n",
        "try:\n",
        "  df = pd.read_csv(url)\n",
        "                                                                                  # Print statement removed, only using HTML display below\n",
        "except Exception as e:\n",
        "  display(HTML(f\"<p style='color: red; font-size: 16px; font-weight: bold;'>Error loading data: {e}</p>\"))\n",
        "  exit()\n",
        "\n",
        "Data_Preparing_df = pd.read_csv(url)\n",
        "display(HTML(\"<p style='color: green; font-size: 16px; font-weight: bold;'>Data loaded successfully.</p>\"))\n",
        "\n",
        "# -------------------- Feature Engineering --------------------\n",
        "# Capture initial column count\n",
        "initial_cols_count = len(Data_Preparing_df.columns)\n",
        "\n",
        "# Define the grouping for location types\n",
        "residential_types = [\n",
        "    'Apartment (Rooming House, Condo)',\n",
        "    'Single Home, House (Attach Garage, Cottage, Mobile)',\n",
        "    'Group Homes (Non-Profit, Halfway House, Social Agency)',\n",
        "    'Community Group Home', 'Retirement Home', 'Nursing Home',\n",
        "    'Private Property Structure (Pool, Shed, Detached Garage)'\n",
        "]\n",
        "public_types = [\n",
        "    'Streets, Roads, Highways (Bicycle Path, Private Road)',\n",
        "    'Open Areas (Lakes, Parks, Rivers)',\n",
        "    \"Other Non Commercial / Corporate Places (Non-Profit, Gov'T, Firehall)\",\n",
        "    'Parking Lots (Apt., Commercial Or Non-Commercial)'\n",
        "]\n",
        "\n",
        "# Work on a copy for feature engineering\n",
        "df = Data_Preparing_df.copy()\n",
        "\n",
        "# Engineer new columns based on pre-defined groups\n",
        "df['Location_Engineered_Residential'] = df['LOCATION_TYPE'].apply(lambda x: 'Residential' if x in residential_types else None)\n",
        "df['Location_Engineered_Public']      = df['LOCATION_TYPE'].apply(lambda x: 'Public' if x in public_types else None)\n",
        "df['Location_Engineered_Other']       = df['LOCATION_TYPE'].apply(lambda x: 'Other' if (x not in residential_types and x not in public_types) else None)\n",
        "\n",
        "# Capture final column count after feature engineering\n",
        "final_cols_count = len(df.columns)\n",
        "\n",
        "# Build steps_summary with 3 engineered rows and one final row for column counts\n",
        "steps_summary = []\n",
        "steps_summary.append({\n",
        "    \"Original Feature\": \"LOCATION_TYPE\",\n",
        "    \"Action Taken\": \"Engineered new column Location_Engineered_Residential\",\n",
        "    \"Rationale\": \"Captures dwelling types in residential areas.\"\n",
        "})\n",
        "steps_summary.append({\n",
        "    \"Original Feature\": \"LOCATION_TYPE\",\n",
        "    \"Action Taken\": \"Engineered new column Location_Engineered_Public\",\n",
        "    \"Rationale\": \"Groups public and community space locations.\"\n",
        "})\n",
        "steps_summary.append({\n",
        "    \"Original Feature\": \"LOCATION_TYPE\",\n",
        "    \"Action Taken\": \"Engineered new column Location_Engineered_Other\",\n",
        "    \"Rationale\": \"Identifies location types that do not fit the primary groups.\"\n",
        "})\n",
        "steps_summary.append({\n",
        "    \"Original Feature\": \"Columns affected in <br><strong>5.4.3 Feature Engineering - Approach_3</strong>\",\n",
        "    \"Action Taken\": \"Initial Columns: <strong><br>\" + str(initial_cols_count) + \"</strong>\",\n",
        "    \"Rationale\": \"Final Columns: <strong><br>\" + str(final_cols_count) + \"</strong>\"\n",
        "})\n",
        "\n",
        "# Build HTML Table for Feature Engineering Phase with alternate row shading\n",
        "html_table = \"\"\"\n",
        "<table style='border-collapse: collapse; width: 100%; font-size: 18px;'>\n",
        "    <thead style='background-color: #4CAF50; color: white;'>\n",
        "        <tr>\n",
        "            <th colspan=\"3\" style=\"text-align: center; font-size: 24px; background-color: #2f4f4f; color: white;\">\n",
        "                5.4.3 Feature Engineering Phase - Approach_3\n",
        "            </th>\n",
        "        </tr>\n",
        "        <tr>\n",
        "            <th style='border: 1px solid #dddddd; padding: 8px;'>Original Feature</th>\n",
        "            <th style='border: 1px solid #dddddd; padding: 8px;'>Action Taken</th>\n",
        "            <th style='border: 1px solid #dddddd; padding: 8px;'>Rationale</th>\n",
        "        </tr>\n",
        "    </thead>\n",
        "    <tbody>\n",
        "\"\"\"\n",
        "\n",
        "# Add rows with alternating shading\n",
        "for i, step in enumerate(steps_summary):\n",
        "    bg_color = \"#f2f2f2\" if i % 2 == 0 else \"white\"\n",
        "    html_table += f\"\"\"\n",
        "        <tr style='border: 1px solid #dddddd; background-color: {bg_color};'>\n",
        "            <td style='border: 1px solid #dddddd; padding: 8px;'>{step[\"Original Feature\"]}</td>\n",
        "            <td style='border: 1px solid #dddddd; padding: 8px;'>{step[\"Action Taken\"]}</td>\n",
        "            <td style='border: 1px solid #dddddd; padding: 8px;'>{step[\"Rationale\"]}</td>\n",
        "        </tr>\n",
        "    \"\"\"\n",
        "\n",
        "# Add footer note inside the table as a row spanning all columns\n",
        "note_text = (\n",
        "    \"Feature Engineering completed and saved as <span style='color: green;'>FEngineered_New.csv</span> for further analysis.\"\n",
        ")\n",
        "html_table += f\"\"\"\n",
        "        <tr style='border: 1px solid #dddddd;'>\n",
        "            <td colspan=\"3\" style='border: 1px solid #dddddd; padding: 8px; background-color: #f8f8f8;'>\n",
        "                <strong>{note_text}</strong>\n",
        "            </td>\n",
        "        </tr>\n",
        "    </tbody>\n",
        "</table>\n",
        "\"\"\"\n",
        "\n",
        "display(HTML(html_table))\n",
        "df.to_csv(\"FEngineered_New.csv\", index=False)                      # Save engineered data as FEngineered_New.csv\n",
        "files.download(\"FEngineered_New.csv\")\n"
      ]
    }
  ]
}